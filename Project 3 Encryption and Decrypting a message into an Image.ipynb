{
 "cells": [
  {
   "cell_type": "code",
   "execution_count": null,
   "metadata": {
    "colab": {
     "base_uri": "https://localhost:8080/",
     "height": 827,
     "output_embedded_package_id": "1HlOk9bgzvLbSsk6YssfqZYI_CF_6MSho"
    },
    "executionInfo": {
     "elapsed": 4629,
     "status": "ok",
     "timestamp": 1621107739534,
     "user": {
      "displayName": "Manuel Quinones",
      "photoUrl": "https://lh3.googleusercontent.com/a-/AOh14Gh_E_IQLT5ucHO0XzP-tXY9XQaQOdJPLyks8sqqsw=s64",
      "userId": "08231357996425747286"
     },
     "user_tz": 240
    },
    "id": "s4IN1vbdKw56",
    "outputId": "3cff3bbd-6535-4923-bd2f-4bed0dae55b5",
    "pycharm": {
     "name": "#%%\n"
    }
   },
   "outputs": [
    {
     "data": {
      "text/plain": [
       "Output hidden; open in https://colab.research.google.com to view."
      ]
     },
     "metadata": {},
     "output_type": "display_data"
    }
   ],
   "source": [
    "from PIL import Image\n",
    "\n",
    "pic = Image.open(\"pulsar.png\")\n",
    "\n",
    "pic"
   ]
  },
  {
   "cell_type": "code",
   "execution_count": null,
   "metadata": {
    "executionInfo": {
     "elapsed": 327,
     "status": "ok",
     "timestamp": 1621107743050,
     "user": {
      "displayName": "Manuel Quinones",
      "photoUrl": "https://lh3.googleusercontent.com/a-/AOh14Gh_E_IQLT5ucHO0XzP-tXY9XQaQOdJPLyks8sqqsw=s64",
      "userId": "08231357996425747286"
     },
     "user_tz": 240
    },
    "id": "lDfF-RZuNF8H",
    "pycharm": {
     "name": "#%%\n"
    }
   },
   "outputs": [],
   "source": [
    "def encrypt(img, msg, shift):\n",
    "  px = img.load()\n",
    "  xsize, ysize = img.size\n",
    "  x, y, amsg, i = 0, 0, \"\", 0\n",
    "\n",
    "  for char in msg:\n",
    "    ascii = ord(char)+shift\n",
    "    amsg+=chr(ascii)\n",
    "\n",
    "  for x in range(0, xsize):\n",
    "    for y in range(0, ysize):\n",
    "      if px[x,y][0] == 255 and px[x,y][1] == 255 and px[x,y][2] == 255 and i < len(amsg):\n",
    "        px[x,y]= (px[x,y][0], px[x,y][1], px[x,y][2], ord(amsg[i]))\n",
    "        i+=1\n",
    "\n",
    "  return"
   ]
  },
  {
   "cell_type": "code",
   "execution_count": null,
   "metadata": {
    "executionInfo": {
     "elapsed": 589,
     "status": "ok",
     "timestamp": 1621107744955,
     "user": {
      "displayName": "Manuel Quinones",
      "photoUrl": "https://lh3.googleusercontent.com/a-/AOh14Gh_E_IQLT5ucHO0XzP-tXY9XQaQOdJPLyks8sqqsw=s64",
      "userId": "08231357996425747286"
     },
     "user_tz": 240
    },
    "id": "U0DB3dFk52V2",
    "pycharm": {
     "name": "#%%\n"
    }
   },
   "outputs": [],
   "source": [
    "msg = \"Hello, how are you doing today?\"\n",
    "encpic = pic.copy()\n",
    "encrypt(encpic,msg, 5)"
   ]
  },
  {
   "cell_type": "code",
   "execution_count": null,
   "metadata": {
    "colab": {
     "base_uri": "https://localhost:8080/",
     "height": 827,
     "output_embedded_package_id": "11IChMoBTfIugfBM3FvFzKW4in-I57NNj"
    },
    "executionInfo": {
     "elapsed": 3079,
     "status": "ok",
     "timestamp": 1621107751189,
     "user": {
      "displayName": "Manuel Quinones",
      "photoUrl": "https://lh3.googleusercontent.com/a-/AOh14Gh_E_IQLT5ucHO0XzP-tXY9XQaQOdJPLyks8sqqsw=s64",
      "userId": "08231357996425747286"
     },
     "user_tz": 240
    },
    "id": "NGwXka2INe5I",
    "outputId": "8b2bf248-cf75-4780-d642-46ce39291a6e",
    "pycharm": {
     "name": "#%%\n"
    }
   },
   "outputs": [
    {
     "data": {
      "text/plain": [
       "Output hidden; open in https://colab.research.google.com to view."
      ]
     },
     "metadata": {},
     "output_type": "display_data"
    }
   ],
   "source": [
    "encpic"
   ]
  },
  {
   "cell_type": "code",
   "execution_count": null,
   "metadata": {
    "executionInfo": {
     "elapsed": 267,
     "status": "ok",
     "timestamp": 1621107755137,
     "user": {
      "displayName": "Manuel Quinones",
      "photoUrl": "https://lh3.googleusercontent.com/a-/AOh14Gh_E_IQLT5ucHO0XzP-tXY9XQaQOdJPLyks8sqqsw=s64",
      "userId": "08231357996425747286"
     },
     "user_tz": 240
    },
    "id": "bGjQ0JEJNi8A",
    "pycharm": {
     "name": "#%%\n"
    }
   },
   "outputs": [],
   "source": [
    "def decrypt(img, shift):\n",
    "  px = img.load()\n",
    "  xsize, ysize = img.size\n",
    "  x, y, dm = 0, 0, \"\"\n",
    "\n",
    "  for x in range(0, xsize):\n",
    "    for y in range(0, ysize):\n",
    "      if px[x,y][3] != 255:\n",
    "        dm += chr(px[x,y][3]-shift)\n",
    "\n",
    "  return dm"
   ]
  },
  {
   "cell_type": "code",
   "execution_count": null,
   "metadata": {
    "colab": {
     "base_uri": "https://localhost:8080/",
     "height": 37
    },
    "executionInfo": {
     "elapsed": 371,
     "status": "ok",
     "timestamp": 1621107757383,
     "user": {
      "displayName": "Manuel Quinones",
      "photoUrl": "https://lh3.googleusercontent.com/a-/AOh14Gh_E_IQLT5ucHO0XzP-tXY9XQaQOdJPLyks8sqqsw=s64",
      "userId": "08231357996425747286"
     },
     "user_tz": 240
    },
    "id": "sxjbzc4qN2dp",
    "outputId": "f18507d5-b061-491c-c997-14eaf1b85f37",
    "pycharm": {
     "name": "#%%\n"
    }
   },
   "outputs": [
    {
     "data": {
      "application/vnd.google.colaboratory.intrinsic+json": {
       "type": "string"
      },
      "text/plain": [
       "'Hello, how are you doing today?'"
      ]
     },
     "execution_count": 6,
     "metadata": {
      "tags": []
     },
     "output_type": "execute_result"
    }
   ],
   "source": [
    "decrypt(encpic, 5)"
   ]
  }
 ],
 "metadata": {
  "colab": {
   "authorship_tag": "ABX9TyP0hjZ4lPZnxMWdCWEK33fQ",
   "collapsed_sections": [],
   "mount_file_id": "1N02L7Mk7CXeSefJXNV9QeHei9oSrLDaD",
   "name": "Project 3 Encryption and Decrypting a message into an Image.ipynb",
   "provenance": [],
   "toc_visible": true
  },
  "kernelspec": {
   "display_name": "Python 3",
   "name": "python3"
  },
  "language_info": {
   "name": "python"
  }
 },
 "nbformat": 4,
 "nbformat_minor": 0
}